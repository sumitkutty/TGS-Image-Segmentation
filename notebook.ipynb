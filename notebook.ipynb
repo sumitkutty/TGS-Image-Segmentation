{
 "cells": [
  {
   "cell_type": "code",
   "execution_count": 22,
   "id": "86d1f8cb-9328-403b-8d91-86874fc6781d",
   "metadata": {},
   "outputs": [],
   "source": [
    "import torch \n",
    "import torchvision as tv\n",
    "import torch.nn as nn \n",
    "from torch.utils.data import Dataset\n",
    "\n",
    "import os\n",
    "import sklearn\n",
    "import pandas as pd\n",
    "import matplotlib.pyplot as plt\n",
    "import cv2\n",
    "import tqdm"
   ]
  },
  {
   "cell_type": "code",
   "execution_count": 15,
   "id": "396c2246",
   "metadata": {},
   "outputs": [],
   "source": [
    "dataset_path = 'dataset/train'\n",
    "images_path = os.path.join(dataset_path, 'images')\n",
    "masks_path = os.path.join(dataset_path, 'masks')\n",
    "df = pd.read_csv('dataset/train.csv')\n",
    "output_path = 'output'"
   ]
  },
  {
   "cell_type": "code",
   "execution_count": 4,
   "id": "a6d62d93",
   "metadata": {},
   "outputs": [],
   "source": [
    "img_size = (101,101)\n",
    "\n",
    "classes = ['sediment', 'salt']\n",
    "\n",
    "test_split=  0.15\n",
    "\n",
    "device = \"cuda\" if torch.cuda.is_available() else \"cpu\"\n"
   ]
  },
  {
   "cell_type": "markdown",
   "id": "dfc92587",
   "metadata": {},
   "source": [
    "### Other factors"
   ]
  },
  {
   "cell_type": "code",
   "execution_count": null,
   "id": "d0d531cf",
   "metadata": {},
   "outputs": [],
   "source": [
    "num_channels = 1\n",
    "num_classes = len(classes)\n",
    "num_levels = 3 #levels in U-Net model\n",
    "\n",
    "lr = 1e-3\n",
    "num_epochs = 40\n",
    "batch_size = 64\n",
    "\n",
    "# define threshold to filter weak predictions\n",
    "threshold = 0.5\n",
    "\n"
   ]
  },
  {
   "cell_type": "markdown",
   "id": "e1f4630e",
   "metadata": {},
   "source": [
    "#### Create dataset Class"
   ]
  },
  {
   "cell_type": "code",
   "execution_count": 19,
   "id": "603c6ec5",
   "metadata": {},
   "outputs": [
    {
     "data": {
      "text/plain": [
       "0.001"
      ]
     },
     "execution_count": 19,
     "metadata": {},
     "output_type": "execute_result"
    }
   ],
   "source": [
    "class segmentationdataset(Dataset):\n",
    "    def __init__(self, img_paths, mask_paths, transforms= None):\n",
    "        self.img_paths = img_paths\n",
    "        self.mask_paths = mask_paths\n",
    "        self.transforms = transforms\n",
    "\n",
    "    def __len__(self):\n",
    "        return len(self.img_paths)\n",
    "\n",
    "    def __getitem__(self, idx):\n",
    "        image_path = self.img_paths[idx]\n",
    "\n",
    "        image = Image.open(image_path).convert(\"RGB\")\n",
    "        mask = Image.open(self.mask_paths[idx])\n",
    "\n",
    "        if trasnforms:\n",
    "            image = self.transforms(image)\n",
    "            mask = self.transforms(mask)\n",
    "\n",
    "        return (image, mask)"
   ]
  },
  {
   "cell_type": "code",
   "execution_count": 21,
   "id": "795006cb",
   "metadata": {},
   "outputs": [
    {
     "data": {
      "text/plain": [
       "(101, 101, 3)"
      ]
     },
     "execution_count": 21,
     "metadata": {},
     "output_type": "execute_result"
    }
   ],
   "source": []
  },
  {
   "cell_type": "code",
   "execution_count": 1,
   "id": "a74ab0c2",
   "metadata": {},
   "outputs": [
    {
     "name": "stdout",
     "output_type": "stream",
     "text": [
      "0\n",
      "1\n",
      "2\n"
     ]
    }
   ],
   "source": [
    "for i in range(3):\n",
    "    print(i)"
   ]
  },
  {
   "cell_type": "code",
   "execution_count": null,
   "id": "78c39e3e",
   "metadata": {},
   "outputs": [],
   "source": []
  }
 ],
 "metadata": {
  "kernelspec": {
   "display_name": "CV",
   "language": "python",
   "name": "cv"
  },
  "language_info": {
   "codemirror_mode": {
    "name": "ipython",
    "version": 3
   },
   "file_extension": ".py",
   "mimetype": "text/x-python",
   "name": "python",
   "nbconvert_exporter": "python",
   "pygments_lexer": "ipython3",
   "version": "3.8.8"
  }
 },
 "nbformat": 4,
 "nbformat_minor": 5
}
