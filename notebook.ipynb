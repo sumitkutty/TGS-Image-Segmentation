{
 "cells": [
  {
   "cell_type": "code",
   "execution_count": 1,
   "id": "43ad3351",
   "metadata": {},
   "outputs": [],
   "source": [
    "%load_ext autoreload\n",
    "%autoreload 2"
   ]
  },
  {
   "cell_type": "code",
   "execution_count": 2,
   "id": "86d1f8cb-9328-403b-8d91-86874fc6781d",
   "metadata": {},
   "outputs": [],
   "source": [
    "import torch \n",
    "import torchvision as tv\n",
    "import torch.nn as nn \n",
    "from torch.utils.data import Dataset\n",
    "import pandas as pd\n",
    "import os\n",
    "import sklearn\n",
    "import pandas as pd\n",
    "import matplotlib.pyplot as plt\n",
    "import cv2\n",
    "from PIL import Image\n",
    "import tqdm\n",
    "from skimage import io"
   ]
  },
  {
   "cell_type": "code",
   "execution_count": 15,
   "id": "396c2246",
   "metadata": {},
   "outputs": [],
   "source": [
    "dataset_path = 'dataset/train'\n",
    "images_path = os.path.join(dataset_path, 'images')\n",
    "masks_path = os.path.join(dataset_path, 'masks')\n",
    "df = pd.read_csv('dataset/train.csv')\n",
    "output_path = 'output'\n"
   ]
  },
  {
   "cell_type": "code",
   "execution_count": 50,
   "id": "4714e9a3",
   "metadata": {},
   "outputs": [],
   "source": [
    "#### Function to show 3 images\n",
    "def show_triple(img1, img2, img3, title1, title2, title3):\n",
    "        fig, axis = plt.subplots(1,3, figsize = (10,8))\n",
    "        img1 = io.imread(img1)\n",
    "        img2 = io.imread(img2)\n",
    "        img3 = io.imread(img3)\n",
    "        print(img1.shape)\n",
    "\n",
    "        if len(img1.shape) < 3:\n",
    "                cmap = 'gray'\n",
    "        axis[0].imshow(img1, cmap = cmap)\n",
    "        axis[1].imshow(img2, cmap = cmap)\n",
    "        axis[2].imshow(img3, cmap = cmap)\n",
    "        axis[0].axis('off')\n",
    "        axis[1].axis('off')\n",
    "        axis[2].axis('off')\n",
    "        axis[0].set_title(title1)\n",
    "        axis[1].set_title(title2)\n",
    "        axis[2].set_title(title3)\n",
    "        plt.show()\n",
    "       \n"
   ]
  },
  {
   "cell_type": "code",
   "execution_count": 51,
   "id": "e91adceb",
   "metadata": {},
   "outputs": [
    {
     "name": "stdout",
     "output_type": "stream",
     "text": [
      "(101, 101)\n"
     ]
    },
    {
     "data": {
      "image/png": "[encoded data removed]",
      "text/plain": [
       "<Figure size 720x576 with 3 Axes>"
      ]
     },
     "metadata": {
      "needs_background": "light"
     },
     "output_type": "display_data"
    }
   ],
   "source": [
    "## Display sample Image\n",
    "\n",
    "sample_masks = os.listdir(masks_path)\n",
    "sample_imgs = os.listdir(images_path)\n",
    "mask_paths = [os.path.join(masks_path,i) for i in sample_masks[0:3]]\n",
    "img_paths = [os.path.join(images_path,i) for i in sample_imgs[0:3]]\n",
    "#show_triple(*img_paths, \"Im1\", \"Im2\", \"Im3\")\n",
    "show_triple(*mask_paths, \"Mask1\", \"Mask2\", \"Mask3\")\n",
    "\n"
   ]
  },
  {
   "cell_type": "code",
   "execution_count": null,
   "id": "574c8e05",
   "metadata": {},
   "outputs": [],
   "source": []
  },
  {
   "cell_type": "code",
   "execution_count": null,
   "id": "a6d62d93",
   "metadata": {},
   "outputs": [],
   "source": [
    "\n"
   ]
  },
  {
   "cell_type": "code",
   "execution_count": null,
   "id": "a5ec6190",
   "metadata": {},
   "outputs": [],
   "source": []
  }
 ],
 "metadata": {
  "kernelspec": {
   "display_name": "CV",
   "language": "python",
   "name": "cv"
  },
  "language_info": {
   "codemirror_mode": {
    "name": "ipython",
    "version": 3
   },
   "file_extension": ".py",
   "mimetype": "text/x-python",
   "name": "python",
   "nbconvert_exporter": "python",
   "pygments_lexer": "ipython3",
   "version": "3.8.8"
  }
 },
 "nbformat": 4,
 "nbformat_minor": 5
}
